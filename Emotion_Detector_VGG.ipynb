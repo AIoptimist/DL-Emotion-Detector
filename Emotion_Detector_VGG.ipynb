{
  "nbformat": 4,
  "nbformat_minor": 0,
  "metadata": {
    "kernelspec": {
      "display_name": "Python 3",
      "language": "python",
      "name": "python3"
    },
    "language_info": {
      "codemirror_mode": {
        "name": "ipython",
        "version": 3
      },
      "file_extension": ".py",
      "mimetype": "text/x-python",
      "name": "python",
      "nbconvert_exporter": "python",
      "pygments_lexer": "ipython3",
      "version": "3.7.1"
    },
    "colab": {
      "name": "Emotion Detector VGG.ipynb",
      "provenance": [],
      "include_colab_link": true
    }
  },
  "cells": [
    {
      "cell_type": "markdown",
      "metadata": {
        "id": "view-in-github",
        "colab_type": "text"
      },
      "source": [
        "<a href=\"https://colab.research.google.com/github/AIoptimist/DL-Emotion-Detector/blob/master/Emotion_Detector_VGG.ipynb\" target=\"_parent\"><img src=\"https://colab.research.google.com/assets/colab-badge.svg\" alt=\"Open In Colab\"/></a>"
      ]
    },
    {
      "cell_type": "markdown",
      "metadata": {
        "id": "juqb4XdRxM-u",
        "colab_type": "text"
      },
      "source": [
        "# Emotion Detector "
      ]
    },
    {
      "cell_type": "markdown",
      "metadata": {
        "id": "QlimLtjPxM-w",
        "colab_type": "text"
      },
      "source": [
        "https://www.kaggle.com/c/challenges-in-representation-learning-facial-expression-recognition-challenge/data <br>"
      ]
    },
    {
      "cell_type": "code",
      "metadata": {
        "id": "ONJP_H1gxM-x",
        "colab_type": "code",
        "colab": {}
      },
      "source": [
        "import warnings\n",
        "warnings.filterwarnings('ignore')\n",
        "\n",
        "import os\n",
        "import sys\n",
        "import cv2\n",
        "import numpy as np\n",
        "\n",
        "import keras\n",
        "from keras.preprocessing.image import ImageDataGenerator\n",
        "\n",
        "from keras.models import Sequential\n",
        "from keras.layers.normalization import BatchNormalization\n",
        "from keras.layers.convolutional import Conv2D, MaxPooling2D\n",
        "from keras.layers.advanced_activations import ELU\n",
        "from keras.layers.core import Activation, Flatten, Dropout, Dense"
      ],
      "execution_count": 0,
      "outputs": []
    },
    {
      "cell_type": "markdown",
      "metadata": {
        "id": "jAx0lUKLxM-0",
        "colab_type": "text"
      },
      "source": [
        "### Converting CSV to IMAGES\n",
        "https://www.kaggle.com/c/challenges-in-representation-learning-facial-expression-recognition-challenge/discussion/29428"
      ]
    },
    {
      "cell_type": "code",
      "metadata": {
        "id": "4_FH0ZKOxM-1",
        "colab_type": "code",
        "colab": {}
      },
      "source": [
        "label_names = ['Angry', 'Disgust', 'Fear', 'Happy', 'Sad', 'Surprise', 'Neutral']\n",
        "data = np.genfromtxt('fer2013.csv',delimiter=',',dtype=None, encoding='utf8')"
      ],
      "execution_count": 0,
      "outputs": []
    },
    {
      "cell_type": "code",
      "metadata": {
        "id": "ZLEYAqgCxM-3",
        "colab_type": "code",
        "colab": {}
      },
      "source": [
        "labels = data[1:,0].astype(np.int32)\n",
        "image_buffer = data[1:,1]\n",
        "usage = data[1:,2]\n",
        "\n",
        "images = np.array([np.fromstring(image, np.uint8, sep=' ') for image in image_buffer])"
      ],
      "execution_count": 0,
      "outputs": []
    },
    {
      "cell_type": "code",
      "metadata": {
        "id": "HB_LAQxyxM-5",
        "colab_type": "code",
        "colab": {}
      },
      "source": [
        "dataset = zip(labels, images, usage)"
      ],
      "execution_count": 0,
      "outputs": []
    },
    {
      "cell_type": "markdown",
      "metadata": {
        "id": "uQ1RQvAtxM-7",
        "colab_type": "text"
      },
      "source": [
        "#### Below code is to be run only once to generate data"
      ]
    },
    {
      "cell_type": "code",
      "metadata": {
        "id": "oLOsPJAUxM-8",
        "colab_type": "code",
        "colab": {}
      },
      "source": [
        "# output_path=\"C:\\\\Users\\\\12rah\\Desktop\"\n",
        "\n",
        "# for i, d in enumerate(dataset):\n",
        "#     usage_path = os.path.join(output_path, d[-1])\n",
        "#     label_path = os.path.join(usage_path, label_names[d[0]])\n",
        "#     img = d[1].reshape((48,48))\n",
        "#     img_name = '%06d.jpg' % i\n",
        "#     img_path = os.path.join(label_path, img_name)\n",
        "#     if not os.path.exists(usage_path):\n",
        "#         os.system('mkdir {}'.format(usage_path))\n",
        "#     if not os.path.exists(label_path):\n",
        "#         os.system('mkdir {}'.format(label_path))\n",
        "#     cv2.imwrite(img_path, img)\n",
        "#     print('Write {}'.format(img_path))"
      ],
      "execution_count": 0,
      "outputs": []
    },
    {
      "cell_type": "code",
      "metadata": {
        "id": "R3MsSW6-xM--",
        "colab_type": "code",
        "colab": {},
        "outputId": "af47bb9c-9ec7-4aec-a8c3-8acdb8b809af"
      },
      "source": [
        "np.unique(usage)"
      ],
      "execution_count": 0,
      "outputs": [
        {
          "output_type": "execute_result",
          "data": {
            "text/plain": [
              "array(['PrivateTest', 'PublicTest', 'Training'], dtype='<U9215')"
            ]
          },
          "metadata": {
            "tags": []
          },
          "execution_count": 6
        }
      ]
    },
    {
      "cell_type": "code",
      "metadata": {
        "id": "Hvjmei73xM_A",
        "colab_type": "code",
        "colab": {}
      },
      "source": [
        ""
      ],
      "execution_count": 0,
      "outputs": []
    }
  ]
}